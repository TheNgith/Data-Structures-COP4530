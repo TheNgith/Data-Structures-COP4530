{
 "cells": [
  {
   "cell_type": "code",
   "execution_count": 7,
   "metadata": {},
   "outputs": [
    {
     "name": "stdout",
     "output_type": "stream",
     "text": [
      "Ginger\n",
      "Pesto sauce\n",
      "Shrimp\n",
      "Pizza dough\n",
      "Cherry tomatoes\n",
      "Parsley\n",
      "Sour cream\n",
      "Onion\n",
      "Taco seasoning\n",
      "Croutons\n",
      "Chili powder\n",
      "Chicken broth\n",
      "Lemon\n",
      "Lettuce\n",
      "Sesame oil\n",
      "Butter\n",
      "Chicken breast\n",
      "Caesar dressing\n",
      "Salmon fillets\n",
      "Heavy cream\n",
      "Rice vinegar\n",
      "White wine\n",
      "Beef broth\n",
      "Spaghetti noodles\n",
      "Tomatoes\n",
      "Egg noodles\n",
      "Tortillas\n",
      "Ricotta cheese\n",
      "Tomato sauce\n",
      "Parmesan cheese\n",
      "Basil leaves\n",
      "Mushrooms\n",
      "Salsa\n",
      "Green onions\n",
      "Teriyaki sauce\n",
      "Pine nuts\n",
      "Coconut milk\n",
      "Salt\n",
      "Broccoli florets\n",
      "Kidney beans\n",
      "Honey\n",
      "Mixed vegetables\n",
      "Eggplant\n",
      "Soy sauce\n",
      "Pasta\n",
      "Chicken thighs\n",
      "Spinach\n",
      "Lasagna noodles\n",
      "Fettuccine pasta\n",
      "Bread crumbs\n",
      "Beef sirloin\n",
      "Zucchini\n",
      "Bell peppers\n",
      "Mozzarella cheese\n",
      "Romaine lettuce\n",
      "Garli\n",
      "Arborio rice\n",
      "Cheese\n",
      "Garlic\n",
      "Tomato\n",
      "Cumin\n",
      "Balsamic vinegar\n",
      "Ground beef\n",
      "Fresh mozzarella\n",
      "Linguine pasta\n",
      "Olive oil\n",
      "Curry paste\n"
     ]
    }
   ],
   "source": [
    "path = \"/home/thinhnguyen/final_project/menu.txt\"\n",
    "with open(path, \"r\") as f:\n",
    "    lines = f.readlines()\n",
    "\n",
    "ing = []\n",
    "for line in lines:\n",
    "    if line[0] == \"-\":\n",
    "        ing.append(line[2:-5])\n",
    "for i in list(set(ing)):\n",
    "    print(i)"
   ]
  },
  {
   "cell_type": "code",
   "execution_count": null,
   "metadata": {},
   "outputs": [],
   "source": []
  }
 ],
 "metadata": {
  "kernelspec": {
   "display_name": "Python 3",
   "language": "python",
   "name": "python3"
  },
  "language_info": {
   "codemirror_mode": {
    "name": "ipython",
    "version": 3
   },
   "file_extension": ".py",
   "mimetype": "text/x-python",
   "name": "python",
   "nbconvert_exporter": "python",
   "pygments_lexer": "ipython3",
   "version": "3.10.12"
  }
 },
 "nbformat": 4,
 "nbformat_minor": 2
}
